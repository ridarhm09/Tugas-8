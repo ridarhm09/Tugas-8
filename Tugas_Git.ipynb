{
 "cells": [
  {
   "cell_type": "code",
   "execution_count": 2,
   "metadata": {},
   "outputs": [],
   "source": [
    "data_panen = {\n",
    "    'lokasi1' : {\n",
    "        'nama_lokasi' : 'Kebun A',\n",
    "        'hasil_panen' : {\n",
    "            'padi' : 1200,\n",
    "            'jagung' : 800,\n",
    "            'kedelai' : 500\n",
    "        }\n",
    "    }, \n",
    "     'lokasi2' : {\n",
    "         'nama_lokasi' : 'Kebun B',\n",
    "          'hasil_panen' : {\n",
    "            'padi' : 1500,\n",
    "            'jagung' : 900, \n",
    "            'kedelai' : 450\n",
    "          }\n",
    "     },\n",
    "    'lokasi3' : {\n",
    "         'nama_lokasi' : 'Kebun C',\n",
    "         'hasil_panen' : {\n",
    "            'padi' : 1100,\n",
    "            'jagung' : 750,\n",
    "            'kedelai' : 600\n",
    "         }\n",
    "    }, \n",
    "    'lokasi4' : {\n",
    "        'nama_lokasi' : 'Kebun D',\n",
    "        'hasil_panen' : {\n",
    "            'padi' : 1300,\n",
    "            'jagung' : 850,\n",
    "            'kedelai' : 550\n",
    "            }\n",
    "    },\n",
    "    'lokasi5' : {\n",
    "        'nama_lokasi' : 'Kebun E',\n",
    "        'hasil_panen' : {\n",
    "            'padi' : 1400,\n",
    "            'jagung' : 950,\n",
    "            'kedelai' : 480\n",
    "            }\n",
    "    }\n",
    "}\n"
   ]
  },
  {
   "cell_type": "code",
   "execution_count": null,
   "metadata": {},
   "outputs": [
    {
     "name": "stdout",
     "output_type": "stream",
     "text": [
      "Lokasi: Kebun A\n"
     ]
    },
    {
     "ename": "KeyError",
     "evalue": "'hasil_panen'",
     "output_type": "error",
     "traceback": [
      "\u001b[1;31m---------------------------------------------------------------------------\u001b[0m",
      "\u001b[1;31mKeyError\u001b[0m                                  Traceback (most recent call last)",
      "Cell \u001b[1;32mIn[17], line 5\u001b[0m\n\u001b[0;32m      3\u001b[0m \u001b[38;5;28;01mfor\u001b[39;00m i,data \u001b[38;5;129;01min\u001b[39;00m data_panen\u001b[38;5;241m.\u001b[39mitems():\n\u001b[0;32m      4\u001b[0m     \u001b[38;5;28mprint\u001b[39m(\u001b[38;5;124mf\u001b[39m\u001b[38;5;124m\"\u001b[39m\u001b[38;5;124mLokasi: \u001b[39m\u001b[38;5;132;01m{\u001b[39;00mdata[\u001b[38;5;124m'\u001b[39m\u001b[38;5;124mnama_lokasi\u001b[39m\u001b[38;5;124m'\u001b[39m]\u001b[38;5;132;01m}\u001b[39;00m\u001b[38;5;124m\"\u001b[39m)\n\u001b[1;32m----> 5\u001b[0m     \u001b[38;5;28mprint\u001b[39m(\u001b[38;5;124mf\u001b[39m\u001b[38;5;124m\"\u001b[39m\u001b[38;5;124mHasil Panen:\u001b[39m\u001b[38;5;130;01m\\n\u001b[39;00m\u001b[38;5;124mPadi: \u001b[39m\u001b[38;5;132;01m{\u001b[39;00mdata[\u001b[38;5;124m'\u001b[39m\u001b[38;5;124mhasil_panen\u001b[39m\u001b[38;5;124m'\u001b[39m][\u001b[38;5;124m'\u001b[39m\u001b[38;5;124mpadi\u001b[39m\u001b[38;5;124m'\u001b[39m]\u001b[38;5;132;01m}\u001b[39;00m\u001b[38;5;130;01m\\n\u001b[39;00m\u001b[38;5;124mJagung: \u001b[39m\u001b[38;5;132;01m{\u001b[39;00mdata[\u001b[38;5;124m'\u001b[39m\u001b[38;5;124mhasil_panen\u001b[39m\u001b[38;5;124m'\u001b[39m][\u001b[38;5;124m'\u001b[39m\u001b[38;5;124mjagung\u001b[39m\u001b[38;5;124m'\u001b[39m]\u001b[38;5;132;01m}\u001b[39;00m\u001b[38;5;130;01m\\n\u001b[39;00m\u001b[38;5;124mKedelai: \u001b[39m\u001b[38;5;132;01m{\u001b[39;00m\u001b[43mdata_panen\u001b[49m\u001b[43m[\u001b[49m\u001b[38;5;124;43m'\u001b[39;49m\u001b[38;5;124;43mhasil_panen\u001b[39;49m\u001b[38;5;124;43m'\u001b[39;49m\u001b[43m]\u001b[49m[\u001b[38;5;124m'\u001b[39m\u001b[38;5;124mkedelai\u001b[39m\u001b[38;5;124m'\u001b[39m]\u001b[38;5;132;01m}\u001b[39;00m\u001b[38;5;130;01m\\n\u001b[39;00m\u001b[38;5;124m\"\u001b[39m)\n",
      "\u001b[1;31mKeyError\u001b[0m: 'hasil_panen'"
     ]
    }
   ],
   "source": [
    "# 1. Tampilkan seluruh data dari data_panen termasuk nama lokasi dan hasil panen masing-masing.\n",
    "\n",
    "for i, data in data_panen.items():\n",
    "    print(f\"Lokasi: {data['nama_lokasi']}\")\n",
    "    print(f\"Hasil Panen:\\nPadi: {data['hasil_panen']['padi']}\\nJagung: {data['hasil_panen']['jagung']}\\nKedelai: {data['hasil_panen']['kedelai']}\\n\")"
   ]
  },
  {
   "cell_type": "code",
   "execution_count": 13,
   "metadata": {},
   "outputs": [
    {
     "name": "stdout",
     "output_type": "stream",
     "text": [
      "Jumlah hasil panen Jagung dari lokasi 2 yaitu  : 900\n"
     ]
    }
   ],
   "source": [
    "# 2. Tampilkan jumlah hasil panen jagung dari lokasi2.\n",
    "\n",
    "print(f\"Jumlah hasil panen Jagung dari lokasi 2 yaitu  : {data_panen['lokasi2']['hasil_panen']['jagung']}\")"
   ]
  },
  {
   "cell_type": "code",
   "execution_count": 11,
   "metadata": {},
   "outputs": [
    {
     "name": "stdout",
     "output_type": "stream",
     "text": [
      "Nama Lokasi dari lokasi3 : Kebun C\n"
     ]
    }
   ],
   "source": [
    "# 3. Tampilkan nama lokasi dari lokasi3.\n",
    "\n",
    "print(f\"Nama Lokasi dari lokasi3 : {data_panen['lokasi3']['nama_lokasi']}\")"
   ]
  },
  {
   "cell_type": "code",
   "execution_count": 22,
   "metadata": {},
   "outputs": [
    {
     "name": "stdout",
     "output_type": "stream",
     "text": [
      "Hasil panen Padi dan Kedelai per lokasi\n",
      "Kebun A\n",
      "Hasil panen padi: 1200\n",
      "Hasil panen kedelai: 500\n",
      "\n",
      "Kebun B\n",
      "Hasil panen padi: 1500\n",
      "Hasil panen kedelai: 450\n",
      "\n",
      "Kebun C\n",
      "Hasil panen padi: 1100\n",
      "Hasil panen kedelai: 600\n",
      "\n",
      "Kebun D\n",
      "Hasil panen padi: 1300\n",
      "Hasil panen kedelai: 550\n",
      "\n",
      "Kebun E\n",
      "Hasil panen padi: 1400\n",
      "Hasil panen kedelai: 480\n",
      "\n"
     ]
    }
   ],
   "source": [
    "# 4. Masukkan Jumlah Hasil Panen Padi dan Kedelai Setiap Lokasi ke Dalam Variabel yang Berbeda:\n",
    "print(\"Hasil panen Padi dan Kedelai per lokasi\")\n",
    "for lokasi, data in data_panen.items(): \n",
    "    print(f\"{data['nama_lokasi']}\")\n",
    "    print(f\"Hasil panen padi: {data['hasil_panen']['padi']}\")\n",
    "    print(f\"Hasil panen kedelai: {data['hasil_panen']['kedelai']}\\n\")"
   ]
  },
  {
   "cell_type": "code",
   "execution_count": 27,
   "metadata": {},
   "outputs": [
    {
     "name": "stdout",
     "output_type": "stream",
     "text": [
      "Kebun A\n",
      "Data Padi:  1200\n",
      "Data Kedelai:  500\n",
      "\n",
      "\n",
      "Kebun B\n",
      "Data Padi:  1500\n",
      "Data Kedelai:  450\n",
      "\n",
      "\n",
      "Kebun C\n",
      "Data Padi:  1100\n",
      "Data Kedelai:  600\n",
      "\n",
      "\n",
      "Kebun D\n",
      "Data Padi:  1300\n",
      "Data Kedelai:  550\n",
      "\n",
      "\n",
      "Kebun E\n",
      "Data Padi:  1400\n",
      "Data Kedelai:  480\n",
      "\n",
      "\n"
     ]
    }
   ],
   "source": [
    "# 5. Buat variabel terpisah untuk menyimpan jumlah hasil panen padi dan kedelai dari setiap lokasi.\n",
    "\n",
    "for lokasi, data in data_panen.items():\n",
    "    lokasi = data['nama_lokasi']\n",
    "    data_padi = data['hasil_panen']['padi']\n",
    "    data_kedelai = data['hasil_panen']['kedelai']\n",
    "    print(lokasi)\n",
    "    print(\"Data Padi: \", data_padi)\n",
    "    print(\"Data Kedelai: \", data_kedelai)\n",
    "    print(\"\\n\")"
   ]
  },
  {
   "cell_type": "code",
   "execution_count": null,
   "metadata": {},
   "outputs": [],
   "source": [
    "# 6. Buat Percabangan\n",
    "#    Jika jumlah hasil panen padi lebih dari 1300 atau jagung lebih dari 800 di suatu lokasi, maka lokasi tersebut memerlukan perhatian khusus.\n",
    "#    Jika tidak, maka lokasi tersebut dalam kondisi baik.\n",
    "\n"
   ]
  }
 ],
 "metadata": {
  "kernelspec": {
   "display_name": "Python 3",
   "language": "python",
   "name": "python3"
  },
  "language_info": {
   "codemirror_mode": {
    "name": "ipython",
    "version": 3
   },
   "file_extension": ".py",
   "mimetype": "text/x-python",
   "name": "python",
   "nbconvert_exporter": "python",
   "pygments_lexer": "ipython3",
   "version": "3.12.7"
  }
 },
 "nbformat": 4,
 "nbformat_minor": 2
}
